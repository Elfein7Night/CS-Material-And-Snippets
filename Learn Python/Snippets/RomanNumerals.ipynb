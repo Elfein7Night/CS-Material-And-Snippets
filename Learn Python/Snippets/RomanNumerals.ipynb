{
 "cells": [
  {
   "cell_type": "markdown",
   "source": [
    "# Convert Integer up to a 1000 to a roman numeral"
   ],
   "metadata": {
    "collapsed": false
   }
  },
  {
   "cell_type": "code",
   "execution_count": 1,
   "id": "ready-warrior",
   "metadata": {},
   "outputs": [],
   "source": [
    "def convert(num):\n",
    "    if num <= 1000:\n",
    "        # create dict of integer to roman digits mapping\n",
    "        roman_dict = {\n",
    "            1000:   'M',\n",
    "            900:    'CM',\n",
    "            500:    'D',\n",
    "            400:    'CD',\n",
    "            100:    'C',\n",
    "            90:     'XC',\n",
    "            50:     'L',\n",
    "            40:     'XL',\n",
    "            10:     'X',\n",
    "            9:      'IX',\n",
    "            5:      'V',\n",
    "            4:      'IV',\n",
    "            1:      'I',\n",
    "        }\n",
    "\n",
    "        result = \"\"\n",
    "        for key in roman_dict.keys():\n",
    "            case_occurrences = num // key\n",
    "            if case_occurrences >= 1:\n",
    "                result  += roman_dict[key]  * case_occurrences\n",
    "                num     -= key              * case_occurrences\n",
    "        return result\n",
    "\n",
    "    else:\n",
    "        return None"
   ]
  },
  {
   "cell_type": "markdown",
   "id": "pregnant-slide",
   "metadata": {},
   "source": [
    "# Tests:"
   ]
  },
  {
   "cell_type": "code",
   "execution_count": 2,
   "id": "dressed-proposal",
   "metadata": {
    "pycharm": {
     "name": "#%%\n"
    }
   },
   "outputs": [
    {
     "name": "stdout",
     "output_type": "stream",
     "text": [
      "928\t->\tCMXXVIII\n",
      "124\t->\tCXXIV\n",
      "239\t->\tCCXXXIX\n",
      "555\t->\tDLV\n",
      "33\t->\tXXXIII\n",
      "760\t->\tDCCLX\n"
     ]
    }
   ],
   "source": [
    "test_cases = [\n",
    "    928,    # CMXXVIII\n",
    "    124,    # CXXIV\n",
    "    239,    # CCXXXIX\n",
    "    555,    # DLV\n",
    "    33,     # XXXIII\n",
    "    760     # DCCLX\n",
    "]\n",
    "for case in test_cases:\n",
    "    print(f'{case}\\t->\\t{convert(case)}')"
   ]
  }
 ],
 "metadata": {
  "kernelspec": {
   "display_name": "Python 3",
   "language": "python",
   "name": "python3"
  },
  "language_info": {
   "codemirror_mode": {
    "name": "ipython",
    "version": 3
   },
   "file_extension": ".py",
   "mimetype": "text/x-python",
   "name": "python",
   "nbconvert_exporter": "python",
   "pygments_lexer": "ipython3",
   "version": "3.9.2"
  }
 },
 "nbformat": 4,
 "nbformat_minor": 5
}
